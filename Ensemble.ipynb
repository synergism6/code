{
  "nbformat": 4,
  "nbformat_minor": 0,
  "metadata": {
    "colab": {
      "name": "Ensemble.ipynb",
      "provenance": [],
      "collapsed_sections": []
    },
    "kernelspec": {
      "name": "python3",
      "display_name": "Python 3"
    },
    "language_info": {
      "name": "python"
    }
  },
  "cells": [
    {
      "cell_type": "code",
      "execution_count": 19,
      "metadata": {
        "id": "hvGklmqaDO9g"
      },
      "outputs": [],
      "source": [
        "import numpy as np\n",
        "import pandas as pd\n",
        "import matplotlib.pyplot as plt\n",
        "import seaborn as sns\n",
        "\n",
        "from sklearn.datasets import load_iris, load_wine, load_breast_cancer\n",
        "from sklearn.preprocessing import StandardScaler\n",
        "from sklearn.pipeline import make_pipeline\n",
        "from sklearn.model_selection import train_test_split, cross_validate\n",
        "from sklearn.metrics import accuracy_score, precision_score, recall_score\n",
        "\n",
        "from sklearn.ensemble import BaggingClassifier\n",
        "from sklearn.neighbors import KNeighborsClassifier\n",
        "from sklearn.svm import SVC\n",
        "from sklearn.tree import DecisionTreeClassifier"
      ]
    },
    {
      "cell_type": "markdown",
      "source": [
        "# Main Point\n",
        "1) decision Tree & Bagging VS RandomForest  \n",
        "2) 데이터셋별 성능 비교"
      ],
      "metadata": {
        "id": "tjNkCJYrmYeA"
      }
    },
    {
      "cell_type": "code",
      "source": [
        "# 데이터의 특성에 따른 앙상블 기법의 성능 차이를 위해 유방암, 아이리스꽃, 와인데이터셋 준비\n",
        "cancer=load_breast_cancer()  #as_frame=True\n",
        "# cancer=pd.DataFrame(cancerdata.data, columns=cancerdata.feature_names)\n",
        "iris=load_iris()\n",
        "wine=load_wine()"
      ],
      "metadata": {
        "id": "9hBfZE5NDXfS"
      },
      "execution_count": 20,
      "outputs": []
    },
    {
      "cell_type": "code",
      "source": [
        "# print(cancer.isnull().sum())"
      ],
      "metadata": {
        "id": "78iEPPhKTmBA"
      },
      "execution_count": 21,
      "outputs": []
    },
    {
      "cell_type": "code",
      "source": [
        "# cancer.plot(kind='box', subplots=True, layout=(5, 6), figsize=(15, 21))\n",
        "# plt.show()   "
      ],
      "metadata": {
        "id": "8Uj-qIy8SaBA"
      },
      "execution_count": 22,
      "outputs": []
    },
    {
      "cell_type": "markdown",
      "source": [
        "# Bagging을 사용한 분류\n",
        "- bagging은 bootstrap aggregating의 줄임말\n",
        "- 원래 훈련 데이터셋의 일부를 사용해 여러 모델을 훈련\n",
        "- 각각의 결과를 결합해 최종 결과를 생성\n",
        "- 분산을 줄이고 과적합을 막음\n",
        "- 강력하고 복잡한 모델에서 잘 동작\n",
        "- 주로 Decision Tree 에서 많이 사용하지만, 어떤 알고리즘에도 사용 가능하다\n",
        "- 전체 데이터의 60~80% 밖에 활용하지 못함"
      ],
      "metadata": {
        "id": "xPuFiYjQDgp6"
      }
    },
    {
      "cell_type": "markdown",
      "source": [
        "## Decision Tree "
      ],
      "metadata": {
        "id": "kaF1epNsF3eh"
      }
    },
    {
      "cell_type": "markdown",
      "source": [
        "1) base model : DecisionTreeClassifier 사용한 모델  \n",
        "2) bagging model : BaggingClassifier를 사용한 모델"
      ],
      "metadata": {
        "id": "xdMQTuQVdoKc"
      }
    },
    {
      "cell_type": "code",
      "source": [
        "base_model = make_pipeline(\n",
        "StandardScaler(),\n",
        "DecisionTreeClassifier(random_state=1)\n",
        ")"
      ],
      "metadata": {
        "id": "iCSlV243F7Si"
      },
      "execution_count": 44,
      "outputs": []
    },
    {
      "cell_type": "markdown",
      "source": [
        "- n_estimators = 모형의 갯수.= 한 예측기에 몇번의 시행을 할 것인지\n",
        "- bootstrap = default=True. 데이터 중복 사용 허용여부\n",
        "- max_samples= 하나의 예측기에 샘플이 랜덤하게 몇 %씩 들어가게 할 것인지 설정\n",
        "- max_features=하나의 예측기가 가져갈 수 있는 최대의 칼럼 횟수 "
      ],
      "metadata": {
        "id": "mod_eAk6ZPg5"
      }
    },
    {
      "cell_type": "markdown",
      "source": [
        "▶ bagging을 적용한 Decision Tree가 Randomforest"
      ],
      "metadata": {
        "id": "1I7kbHlXbTwT"
      }
    },
    {
      "cell_type": "code",
      "source": [
        "bagging_model = BaggingClassifier(base_model, n_estimators=10, max_samples=0.5, max_features=0.5, random_state=1)"
      ],
      "metadata": {
        "id": "XQqgVgrIZN-A"
      },
      "execution_count": 45,
      "outputs": []
    },
    {
      "cell_type": "markdown",
      "source": [
        "### base model VS bagging model 성능 비교"
      ],
      "metadata": {
        "id": "NKu6R3jkXDFb"
      }
    },
    {
      "cell_type": "markdown",
      "source": [
        "- fit_time : 훈련 시간\n",
        "- score_time : 테스트 시간\n",
        "- test_score : 훈련 점수\n",
        "- train_score : 테스트 점수"
      ],
      "metadata": {
        "id": "S2S6LQWvdtlU"
      }
    },
    {
      "cell_type": "markdown",
      "source": [
        "- 데이터셋을 분리하는 방법  \n",
        "  1) tain_test_split() 함수 사용  \n",
        "   ex) X_train, X_test, y_train, y_test = train_test_split(cancer.data, cancer.target, shuffle=True, random_state=1)\n",
        "\n",
        "  2)   cross_validate() 함수 사용 \n",
        "    - estimator: 평가하려는 모델\n",
        "    - X : 훈련 데이터\n",
        "    - y : 타깃 테이블\n",
        "    - cv : 교차검증 분할 수 (k)"
      ],
      "metadata": {
        "id": "BcL4hQ6qdzCs"
      }
    },
    {
      "cell_type": "code",
      "source": [
        "estimatorList=[base_model,bagging_model]\n",
        "\n",
        "for i in estimatorList:\n",
        "  cross_val = cross_validate(\n",
        "  estimator=i,    \n",
        "  X=cancer.data,\n",
        "  y=cancer.target,\n",
        "  cv=5,\n",
        "  \n",
        "  )\n",
        "  # print('avg fit time: {:.5f}'.format(cross_val['fit_time'].mean()))\n",
        "  # print('avg score time: {:.5f} '.format(cross_val['score_time'].mean()))\n",
        "  print('avg test score: {:.5f} '.format(cross_val['test_score'].mean()))\n",
        "  print(pd.DataFrame(cross_val))\n",
        "  print()\n",
        "  \n",
        "\n"
      ],
      "metadata": {
        "colab": {
          "base_uri": "https://localhost:8080/"
        },
        "id": "RYxwvCAAWFGO",
        "outputId": "91158611-b6fa-4d17-e795-8a848c18dd2b"
      },
      "execution_count": 50,
      "outputs": [
        {
          "output_type": "stream",
          "name": "stdout",
          "text": [
            "avg test score: 0.91739 \n",
            "   fit_time  score_time  test_score\n",
            "0  0.010888    0.000688    0.903509\n",
            "1  0.008966    0.000557    0.903509\n",
            "2  0.008882    0.000540    0.921053\n",
            "3  0.008721    0.000563    0.947368\n",
            "4  0.009626    0.000560    0.911504\n",
            "\n",
            "avg test score: 0.94547 \n",
            "   fit_time  score_time  test_score\n",
            "0  0.035705    0.002717    0.921053\n",
            "1  0.034045    0.002666    0.956140\n",
            "2  0.035434    0.002941    0.964912\n",
            "3  0.035962    0.002653    0.964912\n",
            "4  0.043608    0.005188    0.920354\n",
            "\n"
          ]
        }
      ]
    },
    {
      "cell_type": "markdown",
      "source": [
        "## Random Forest"
      ],
      "metadata": {
        "id": "R1pGO7NQGBRC"
      }
    },
    {
      "cell_type": "code",
      "source": [
        "from sklearn.ensemble import RandomForestClassifier"
      ],
      "metadata": {
        "id": "v0LZbrhkGXnC"
      },
      "execution_count": 26,
      "outputs": []
    },
    {
      "cell_type": "code",
      "source": [
        "base_model = make_pipeline(\n",
        "StandardScaler(),\n",
        "RandomForestClassifier(random_state=1)\n",
        ")"
      ],
      "metadata": {
        "id": "KV6oeoCPGaLq"
      },
      "execution_count": 51,
      "outputs": []
    },
    {
      "cell_type": "code",
      "source": [
        "cross_val = cross_validate(\n",
        "estimator=base_model,    \n",
        "X=cancer.data,\n",
        "y=cancer.target,\n",
        "cv=5,\n",
        "\n",
        ")\n",
        "# print('avg fit time: {:.5f}'.format(cross_val['fit_time'].mean()))\n",
        "# print('avg score time: {:.5f} '.format(cross_val['score_time'].mean()))\n",
        "print('avg test score: {:.5f} '.format(cross_val['test_score'].mean()))\n",
        "print(pd.DataFrame(cross_val))"
      ],
      "metadata": {
        "colab": {
          "base_uri": "https://localhost:8080/"
        },
        "id": "LNx_EDhSkExt",
        "outputId": "de45067f-2592-40d4-8da3-17edc22d5391"
      },
      "execution_count": 54,
      "outputs": [
        {
          "output_type": "stream",
          "name": "stdout",
          "text": [
            "avg test score: 0.95959 \n",
            "   fit_time  score_time  test_score\n",
            "0  0.193749    0.012593    0.929825\n",
            "1  0.211422    0.011088    0.947368\n",
            "2  0.201972    0.010581    0.982456\n",
            "3  0.195146    0.010492    0.973684\n",
            "4  0.204167    0.010423    0.964602\n"
          ]
        }
      ]
    },
    {
      "cell_type": "markdown",
      "source": [
        "# Boosting"
      ],
      "metadata": {
        "id": "cB2m_OW3IJKr"
      }
    },
    {
      "cell_type": "markdown",
      "source": [
        "### AdaBoost\n",
        "- 대표적인 부스팅 알고리즘\n",
        "- 일련의 약한 모델들을 학습\n",
        "- 수정된 버전의 데이터를 반복 학습 (가중치가 적용된)\n",
        "- 가중치 투표(또는 합)을 통해 각 모델의 예측 값을 결합\n",
        "- 첫 단계에서는 원본 데이터를 학습하고 연속적인 반복마다 개별 샘플에 대한 \n",
        "- 가중치가 수정되고 다시 모델이 학습\n",
        "- 잘못 예측된 샘플은 가중치 증가, 올바르게 예측된 샘플은 가중치 감소\n",
        "- 각각의 약한 모델들은 예측하기 어려운 샘플에 집중하게 됨\n"
      ],
      "metadata": {
        "id": "XzdxLyi1Gh6a"
      }
    },
    {
      "cell_type": "code",
      "source": [
        "# 와인데이터는 성능이 비교적 떨어짐 -> 데이터 셋의 특성에 따라 성능이 달라짐"
      ],
      "metadata": {
        "id": "1roN36QMHRqK"
      },
      "execution_count": 31,
      "outputs": []
    },
    {
      "cell_type": "code",
      "source": [
        "from sklearn.ensemble import AdaBoostClassifier"
      ],
      "metadata": {
        "id": "W25Ths7hHIxP"
      },
      "execution_count": 58,
      "outputs": []
    },
    {
      "cell_type": "code",
      "source": [
        "Adaboost_model = make_pipeline(\n",
        "StandardScaler(),\n",
        "AdaBoostClassifier()\n",
        ")"
      ],
      "metadata": {
        "id": "LgWoqj7YHKea"
      },
      "execution_count": 62,
      "outputs": []
    },
    {
      "cell_type": "code",
      "source": [
        "cross_val = cross_validate(\n",
        "estimator=Adaboost_model,    \n",
        "X=cancer.data,\n",
        "y=cancer.target,\n",
        "cv=5,\n",
        "\n",
        ")\n",
        "# print('avg fit time: {:.5f}'.format(cross_val['fit_time'].mean()))\n",
        "# print('avg score time: {:.5f} '.format(cross_val['score_time'].mean()))\n",
        "print('avg test score: {:.5f} '.format(cross_val['test_score'].mean()))\n",
        "print(pd.DataFrame(cross_val))"
      ],
      "metadata": {
        "id": "if7Cck7zGtTK",
        "colab": {
          "base_uri": "https://localhost:8080/"
        },
        "outputId": "e1a1d19f-04f3-48d8-ef88-14fce5f18f5c"
      },
      "execution_count": 60,
      "outputs": [
        {
          "output_type": "stream",
          "name": "stdout",
          "text": [
            "avg test score: 0.97187 \n",
            "   fit_time  score_time  test_score\n",
            "0  0.168521    0.009167    0.938596\n",
            "1  0.157824    0.007499    0.973684\n",
            "2  0.158443    0.009142    0.991228\n",
            "3  0.158678    0.008194    0.991228\n",
            "4  0.151001    0.007828    0.964602\n"
          ]
        }
      ]
    },
    {
      "cell_type": "markdown",
      "source": [
        "# 성능 비교 한눈에 보기"
      ],
      "metadata": {
        "id": "CpQllpPAqDlx"
      }
    },
    {
      "cell_type": "code",
      "source": [
        "datasets=[cancer, iris, wine]\n",
        "estimators=[bagging_model,Adaboost_model ]\n",
        "\n",
        "for data in datasets:\n",
        "  print('--datasets--')\n",
        "  for estimator in estimators:\n",
        "    cross_val = cross_validate(\n",
        "    estimator=estimator,    \n",
        "    X=data.data,\n",
        "    y=data.target,\n",
        "    cv=5,\n",
        "\n",
        "    )\n",
        "    # print('avg fit time: {:.5f}'.format(cross_val['fit_time'].mean()))\n",
        "    # print('avg score time: {:.5f} '.format(cross_val['score_time'].mean()))\n",
        "    print('avg test score: {:.5f} '.format(cross_val['test_score'].mean()))\n",
        "    print()"
      ],
      "metadata": {
        "colab": {
          "base_uri": "https://localhost:8080/"
        },
        "id": "JOWC-8FtlxEV",
        "outputId": "f6995fd6-bb33-4df6-ac14-f3c8d363ed2c"
      },
      "execution_count": 67,
      "outputs": [
        {
          "output_type": "stream",
          "name": "stdout",
          "text": [
            "--datasets--\n",
            "avg test score: 0.94547 \n",
            "\n",
            "avg test score: 0.97187 \n",
            "\n",
            "--datasets--\n",
            "avg test score: 0.94000 \n",
            "\n",
            "avg test score: 0.94667 \n",
            "\n",
            "--datasets--\n",
            "avg test score: 0.93286 \n",
            "\n",
            "avg test score: 0.80857 \n",
            "\n"
          ]
        }
      ]
    },
    {
      "cell_type": "code",
      "source": [
        "var=y.predict-y.predict.mean()\n",
        "\n",
        "y.predict-y"
      ],
      "metadata": {
        "id": "hsdI1MyhyX5v"
      },
      "execution_count": null,
      "outputs": []
    },
    {
      "cell_type": "code",
      "source": [
        "# # 속성별 평균\n",
        "# m = cancer.data.mean(axis=0)\n",
        "\n",
        "# # 속성별 표준편차\n",
        "# s = cancer.data.std(axis=0)\n",
        "\n",
        "# # 정규확인 데이터\n",
        "# data2 = (cancer.data - m)/s\n",
        "\n",
        "# fig=plt.figure(figsize=[20,15])\n",
        "# plt.boxplot(data2)\n",
        "# pass"
      ],
      "metadata": {
        "id": "k1BMIyGryPUO"
      },
      "execution_count": null,
      "outputs": []
    },
    {
      "cell_type": "markdown",
      "source": [
        "- 결과 해석\n",
        "1. cancer, iris data의 경우 Adaboost_model의 성능이 더 좋음 -> Low variance, high bias\n",
        "2. wine data의 경우 bagging_model의 성능이 더 좋음 -> High Variance, low bias"
      ],
      "metadata": {
        "id": "g0cLYmG5puyf"
      }
    },
    {
      "cell_type": "code",
      "source": [
        ""
      ],
      "metadata": {
        "id": "oNRzs3fOyNbO"
      },
      "execution_count": null,
      "outputs": []
    },
    {
      "cell_type": "markdown",
      "source": [
        "# XGBoost\n",
        "\n",
        "- 트리 기반의 앙상블 기법\n",
        "- 분류에 있어서 다른 알고리즘보다 좋은 예측 성능을 보여줌\n",
        "- XGBoost는 GBM 기반이지만, GBM의 단점인 느린 수행 시간과 과적합 규제 부재 등의 문제를 해결\n",
        "- 병렬 CPU 환경에서 빠르게 학습 가능\n",
        "- kaggle 도전 데이터 과학자에서 5년 연속 1위한 알고리즘"
      ],
      "metadata": {
        "id": "imX0p5vvIfRq"
      }
    },
    {
      "cell_type": "code",
      "source": [
        ""
      ],
      "metadata": {
        "id": "sc7Cbax9KxNC"
      },
      "execution_count": 34,
      "outputs": []
    }
  ]
}